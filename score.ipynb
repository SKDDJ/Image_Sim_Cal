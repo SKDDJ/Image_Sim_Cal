{
 "cells": [
  {
   "cell_type": "markdown",
   "metadata": {},
   "source": [
    "## CLIP I-I Sim"
   ]
  },
  {
   "cell_type": "code",
   "execution_count": null,
   "metadata": {},
   "outputs": [],
   "source": [
    "import torch\n",
    "from PIL import Image\n",
    "from transformers import AutoProcessor, CLIPModel\n",
    "import torch.nn as nn\n",
    "\n",
    "device = torch.device('cuda' if torch.cuda.is_available() else \"cpu\")\n",
    "processor = AutoProcessor.from_pretrained(\"openai/clip-vit-base-patch32\")\n",
    "model = CLIPModel.from_pretrained(\"openai/clip-vit-base-patch32\").to(device)\n",
    "\n",
    "#Extract features from image1\n",
    "image1 = Image.open('img1.jpg')\n",
    "with torch.no_grad():\n",
    "    inputs1 = processor(images=image1, return_tensors=\"pt\").to(device)\n",
    "    image_features1 = model.get_image_features(**inputs1)\n",
    "\n",
    "#Extract features from image2\n",
    "image2 = Image.open('img2.jpg')\n",
    "with torch.no_grad():\n",
    "    inputs2 = processor(images=image2, return_tensors=\"pt\").to(device)\n",
    "    image_features2 = model.get_image_features(**inputs2)\n",
    "\n",
    "#Compute their cosine similarity and convert it into a score between 0 and 1\n",
    "cos = nn.CosineSimilarity(dim=0)\n",
    "sim = cos(image_features1[0],image_features2[0]).item()\n",
    "sim = (sim+1)/2\n",
    "print('Similarity:', sim)\n"
   ]
  },
  {
   "cell_type": "markdown",
   "metadata": {},
   "source": [
    "## CLIP T-I Sim"
   ]
  },
  {
   "cell_type": "code",
   "execution_count": null,
   "metadata": {},
   "outputs": [],
   "source": [
    "import torch\n",
    "from PIL import Image\n",
    "from transformers import AutoProcessor, CLIPModel\n",
    "import torch.nn as nn\n",
    "\n",
    "device = torch.device('cuda' if torch.cuda.is_available() else \"cpu\")\n",
    "processor = AutoProcessor.from_pretrained(\"openai/clip-vit-base-patch32\")\n",
    "model = CLIPModel.from_pretrained(\"openai/clip-vit-base-patch32\").to(device)\n",
    "\n",
    "# Extract features from image\n",
    "image = Image.open('img1.jpg')\n",
    "with torch.no_grad():\n",
    "    inputs = processor(images=image, return_tensors=\"pt\").to(device)\n",
    "    image_features = model.get_image_features(**inputs)\n",
    "\n",
    "# Extract features from text\n",
    "text = \"A description of the image\"  # Replace with your text description\n",
    "with torch.no_grad():\n",
    "    text_inputs = processor(text=text, return_tensors=\"pt\", padding=True).to(device)\n",
    "    text_features = model.get_text_features(**text_inputs)\n",
    "\n",
    "# Compute their cosine similarity and convert it into a score between 0 and 1\n",
    "cos = nn.CosineSimilarity(dim=1)\n",
    "sim = cos(image_features, text_features).item()\n",
    "sim = (sim + 1) / 2\n",
    "print('Image-Text Similarity:', sim)\n"
   ]
  },
  {
   "cell_type": "markdown",
   "metadata": {},
   "source": [
    "## DINOv2 Score"
   ]
  },
  {
   "cell_type": "code",
   "execution_count": null,
   "metadata": {},
   "outputs": [],
   "source": [
    "from transformers import AutoImageProcessor, AutoModel\n",
    "from PIL import Image\n",
    "import torch.nn as nn\n",
    "\n",
    "device = torch.device('cuda' if torch.cuda.is_available() else \"cpu\")\n",
    "processor = AutoImageProcessor.from_pretrained('facebook/dinov2-base')\n",
    "model = AutoModel.from_pretrained('facebook/dinov2-base').to(device)\n",
    "\n",
    "\n",
    "image1 = Image.open('img1.jpg')\n",
    "with torch.no_grad():\n",
    "    inputs1 = processor(images=image1, return_tensors=\"pt\").to(device)\n",
    "    outputs1 = model(**inputs1)\n",
    "    image_features1 = outputs1.last_hidden_state\n",
    "    image_features1 = image_features1.mean(dim=1)\n",
    "\n",
    "image2 = Image.open('img2.jpg')\n",
    "with torch.no_grad():\n",
    "    inputs2 = processor(images=image2, return_tensors=\"pt\").to(device)\n",
    "    outputs2 = model(**inputs2)\n",
    "    image_features2 = outputs2.last_hidden_state\n",
    "    image_features2 = image_features2.mean(dim=1)\n",
    "\n",
    "cos = nn.CosineSimilarity(dim=0)\n",
    "sim = cos(image_features1[0],image_features2[0]).item()\n",
    "sim = (sim+1)/2\n",
    "print('Similarity:', sim)\n"
   ]
  }
 ],
 "metadata": {
  "language_info": {
   "name": "python"
  }
 },
 "nbformat": 4,
 "nbformat_minor": 2
}
